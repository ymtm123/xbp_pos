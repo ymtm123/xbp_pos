{
 "cells": [
  {
   "cell_type": "code",
   "execution_count": null,
   "id": "135a7a91",
   "metadata": {},
   "outputs": [],
   "source": [
    "!pip install polars"
   ]
  },
  {
   "cell_type": "code",
   "execution_count": 2,
   "id": "242be429",
   "metadata": {},
   "outputs": [],
   "source": [
    "import os\n",
    "import polars as pl\n",
    "from matplotlib import pyplot as plt\n",
    "plt.rcParams['font.family'] = ['IPAexGothic']"
   ]
  },
  {
   "cell_type": "code",
   "execution_count": 3,
   "id": "4907537e",
   "metadata": {},
   "outputs": [],
   "source": [
    "df_pos = pl.read_csv('./data/pos.csv', encoding='utf-8-sig')\n",
    "df_product = pl.read_csv('./data/product.csv', encoding='utf-8-sig')\n",
    "df_weather = pl.read_csv('./data/weather.csv', encoding='utf-8-sig')"
   ]
  }
 ],
 "metadata": {
  "kernelspec": {
   "display_name": "pos_analysis",
   "language": "python",
   "name": "python3"
  },
  "language_info": {
   "codemirror_mode": {
    "name": "ipython",
    "version": 3
   },
   "file_extension": ".py",
   "mimetype": "text/x-python",
   "name": "python",
   "nbconvert_exporter": "python",
   "pygments_lexer": "ipython3",
   "version": "3.11.13"
  }
 },
 "nbformat": 4,
 "nbformat_minor": 5
}
